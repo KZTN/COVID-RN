import pandas as pd
import numpy as np

import camelot

# Extração dos dados do PDF via camelot

tables = camelot.read_pdf('covid19_RN.pdf', pages='9') #página 9 se localiza a tabela
df = tables[0]
df.to_json('covid19_RN.json')
df = pd.read_json(r'covid19_RN.json')
df = df.T.reset_index(drop=True).T
df.to_csv('covid19_RN.csv')
df = pd.read_json(r'covid19_RN.json')
df = df.iloc[ 2:df.shape[0]-1 , 2:df.shape[1]]
df = df.rename(columns={'1':'MUNICÍPIO', '2':'SUSPEITO', '3':'PROVÁVEL', '4':'DESCARTADO', '5':'CONFIRMADO'})

cols = ['SUSPEITO', 'PROVÁVEL', 'DESCARTADO', 'CONFIRMADO']
for col in cols:
    df[col] = df[col].map(lambda x: str(x).lstrip('*').rstrip('*'))
    
df['MUNICÍPIO'] = df['MUNICÍPIO'].map(lambda x: str(x).replace('\n', ' '))
df = df.replace('-', np.nan)
df = df.sort_values(['MUNICÍPIO'], ascending=1)
df = df.reset_index(drop=True)
df.to_json('covid19_RN.json', index=False)
df
